{
 "cells": [
  {
   "cell_type": "code",
   "execution_count": 13,
   "metadata": {},
   "outputs": [],
   "source": [
    "from gpytorch.kernels import Kernel\n",
    "from gpytorch import constraints\n",
    "import torch\n",
    "import gymnasium as gym\n",
    "from aps.gaps_policy import GAPSPolicy"
   ]
  },
  {
   "cell_type": "code",
   "execution_count": 14,
   "metadata": {},
   "outputs": [],
   "source": [
    "env = gym.make(\"Swimmer-v4\")\n",
    "env.observation_space.shape[0]\n",
    "num_inputs = env.observation_space.shape[0]\n",
    "num_outputs = env.action_space.shape[0]\n",
    "policy = GAPSPolicy(num_inputs, num_outputs)"
   ]
  },
  {
   "cell_type": "code",
   "execution_count": 29,
   "metadata": {},
   "outputs": [
    {
     "data": {
      "text/plain": [
       "torch.Size([2, 8])"
      ]
     },
     "execution_count": 29,
     "metadata": {},
     "output_type": "execute_result"
    }
   ],
   "source": [
    "policy.theta.shape"
   ]
  },
  {
   "cell_type": "code",
   "execution_count": 30,
   "metadata": {},
   "outputs": [
    {
     "data": {
      "text/plain": [
       "tensor([[0.2023, 0.6221, 0.3917,  ..., 0.3406, 0.4091, 0.9884],\n",
       "        [0.6824, 0.4499, 0.1533,  ..., 0.9209, 0.1099, 0.8873],\n",
       "        [0.0996, 0.6225, 0.9153,  ..., 0.6180, 0.4695, 0.3822],\n",
       "        ...,\n",
       "        [0.0215, 0.4812, 0.3174,  ..., 0.0676, 0.6586, 0.5673],\n",
       "        [0.4331, 0.1044, 0.9031,  ..., 0.5594, 0.0915, 0.2769],\n",
       "        [0.5729, 0.3790, 0.8501,  ..., 0.7663, 0.7300, 0.4241]])"
      ]
     },
     "execution_count": 30,
     "metadata": {},
     "output_type": "execute_result"
    }
   ],
   "source": [
    "torch.rand(100, 16).reshape(100, )"
   ]
  },
  {
   "cell_type": "code",
   "execution_count": 27,
   "metadata": {},
   "outputs": [],
   "source": [
    "class PolicyKernel(Kernel):\n",
    "    def __init__(self, state_size: int, num_samples: int=100):\n",
    "        super(PolicyKernel, self).__init__()\n",
    "        self.state_size = state_size\n",
    "        self.num_samples = num_samples\n",
    "\n",
    "        self.register_parameter(name=\"raw_lengthscale\", \n",
    "                                parameter=torch.nn.Parameter(torch.zeros(1)))\n",
    "        self.register_parameter(name=\"raw_variance\", \n",
    "                                parameter=torch.nn.Parameter(torch.zeros(1)))\n",
    "        self.raw_lengthscale_constraint = constraints.Positive()\n",
    "        self.raw_variance_constraint = constraints.Positive()\n",
    "\n",
    "    @property\n",
    "    def lengthscale(self):\n",
    "        return self.raw_lengthscale_constraint.transform(self.raw_lengthscale)\n",
    "\n",
    "    @property\n",
    "    def variance(self):\n",
    "        return self.raw_variance_constraint.transform(self.raw_variance)\n",
    "\n",
    "    @lengthscale.setter\n",
    "    def lengthscale(self, value):\n",
    "        self._set_lengthscale(value)\n",
    "\n",
    "    @variance.setter\n",
    "    def variance(self, value):\n",
    "        self._set_variance(value)\n",
    "\n",
    "    def forward(self, x1: torch.Tensor, x2: torch.Tensor):\n",
    "        random_states = (-1.0 - 1.0) * torch.rand(self.state_size, self.num_samples).to(torch.float64) + 1.0\n",
    "        actions1 = torch.matmul(x1, random_states)\n",
    "        actions2 = torch.matmul(x2, random_states)\n",
    "        dists = self.covar_dist(actions1, actions2, square=True).mean(axis=0)\n",
    "\n",
    "        return self.variance * torch.exp(-dists / self.lengthscale)"
   ]
  },
  {
   "cell_type": "code",
   "execution_count": 26,
   "metadata": {},
   "outputs": [
    {
     "data": {
      "text/plain": [
       "tensor([0.0027, 0.0027], dtype=torch.float64, grad_fn=<MulBackward0>)"
      ]
     },
     "execution_count": 26,
     "metadata": {},
     "output_type": "execute_result"
    }
   ],
   "source": [
    "kern = PolicyKernel(state_size=num_inputs)\n",
    "kern.forward(policy.theta, policy.theta)"
   ]
  },
  {
   "cell_type": "code",
   "execution_count": 3,
   "metadata": {},
   "outputs": [
    {
     "data": {
      "text/plain": [
       "tensor([[[ 0.2734,  0.3679],\n",
       "         [-0.6261, -0.1530],\n",
       "         [-0.3638, -0.4592]],\n",
       "\n",
       "        [[ 0.4196,  0.6323],\n",
       "         [ 0.0509, -0.6803],\n",
       "         [ 0.4745,  0.3169]],\n",
       "\n",
       "        [[-0.3987, -0.8536],\n",
       "         [ 0.2364, -0.3556],\n",
       "         [ 0.3059,  0.3107]],\n",
       "\n",
       "        [[-0.9406, -0.1197],\n",
       "         [ 0.1445, -0.3468],\n",
       "         [ 0.9934,  0.8769]],\n",
       "\n",
       "        [[-0.4008, -0.9256],\n",
       "         [-0.4688, -0.5982],\n",
       "         [-0.0200, -0.1050]]])"
      ]
     },
     "execution_count": 3,
     "metadata": {},
     "output_type": "execute_result"
    }
   ],
   "source": []
  }
 ],
 "metadata": {
  "kernelspec": {
   "display_name": ".venv",
   "language": "python",
   "name": "python3"
  },
  "language_info": {
   "codemirror_mode": {
    "name": "ipython",
    "version": 3
   },
   "file_extension": ".py",
   "mimetype": "text/x-python",
   "name": "python",
   "nbconvert_exporter": "python",
   "pygments_lexer": "ipython3",
   "version": "3.11.2"
  }
 },
 "nbformat": 4,
 "nbformat_minor": 2
}
